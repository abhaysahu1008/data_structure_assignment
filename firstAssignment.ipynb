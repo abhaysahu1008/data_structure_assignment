{
 "cells": [
  {
   "cell_type": "code",
   "execution_count": 1,
   "id": "6c90ab5a-5844-4dd8-832f-fad1ff8c469a",
   "metadata": {},
   "outputs": [
    {
     "name": "stdout",
     "output_type": "stream",
     "text": [
      "dlroW, olleH\n"
     ]
    }
   ],
   "source": [
    "#1.Write code to reverse string.\n",
    "\n",
    "#code\n",
    "string1=\"Hello ,World\"\n",
    "rev_string1=string1[::-1]\n",
    "print(rev_string1)"
   ]
  },
  {
   "cell_type": "code",
   "execution_count": 2,
   "id": "03600133-32ee-40ea-93fa-eb81d0e3716f",
   "metadata": {},
   "outputs": [
    {
     "name": "stdout",
     "output_type": "stream",
     "text": [
      "total number of vowels: 11\n"
     ]
    }
   ],
   "source": [
    "#2.Write code to count the number of vowel in string\n",
    "string1=\"Hey everyone, this is Abhay Sahu\"\n",
    "vowels=set(\"aeiouAEIOU\")\n",
    "count=0\n",
    "for char in string1:\n",
    "    if char in vowels:\n",
    "        count+=1\n",
    "print(\"total number of vowels:\",count)\n",
    "      "
   ]
  },
  {
   "cell_type": "code",
   "execution_count": 4,
   "id": "5eb154de-b7ed-48c4-ae90-ae1a749ec363",
   "metadata": {},
   "outputs": [
    {
     "name": "stdin",
     "output_type": "stream",
     "text": [
      "Enter a string:  race\n"
     ]
    },
    {
     "name": "stdout",
     "output_type": "stream",
     "text": [
      "'race' is not a palindrome.\n"
     ]
    }
   ],
   "source": [
    "#3. Write a code to check if a given string is  palindrome or not.\n",
    "\n",
    "def is_palindrome(s):\n",
    "    # Remove any spaces and convert the string to lowercase\n",
    "    s = s.replace(\" \", \"\").lower()\n",
    "    \n",
    "    # Compare the string with its reverse\n",
    "    return s == s[::-1]\n",
    "\n",
    "# Input string\n",
    "input_string = input(\"Enter a string: \")\n",
    "\n",
    "# Check if the input string is a palindrome\n",
    "if is_palindrome(input_string):\n",
    "    print(f\"'{input_string}' is a palindrome.\")\n",
    "else:\n",
    "    print(f\"'{input_string}' is not a palindrome.\")"
   ]
  },
  {
   "cell_type": "code",
   "execution_count": 5,
   "id": "200d9228-5ce4-442e-af18-6383f14aeea2",
   "metadata": {},
   "outputs": [
    {
     "name": "stdin",
     "output_type": "stream",
     "text": [
      "Enter the first string:  race\n",
      "Enter the second string:  care\n"
     ]
    },
    {
     "name": "stdout",
     "output_type": "stream",
     "text": [
      "'race' and 'care' are anagrams.\n"
     ]
    }
   ],
   "source": [
    "#4.Write a code to check if two given strings are anagrams of each other in python\n",
    "\n",
    "# Input strings\n",
    "string1 = input(\"Enter the first string: \")\n",
    "string2 = input(\"Enter the second string: \")\n",
    "\n",
    "# Remove any spaces and convert the strings to lowercase\n",
    "str1 = string1.replace(\" \", \"\").lower()\n",
    "str2 = string2.replace(\" \", \"\").lower()\n",
    "\n",
    "# Check if the sorted versions of the strings are equal\n",
    "if sorted(str1) == sorted(str2):\n",
    "    print(f\"'{string1}' and '{string2}' are anagrams.\")\n",
    "else:\n",
    "    print(f\"'{string1}' and '{string2}' are not anagrams.\")\n"
   ]
  },
  {
   "cell_type": "code",
   "execution_count": 18,
   "id": "6fc24ed2-9fd3-4839-90fb-f7242621c423",
   "metadata": {},
   "outputs": [
    {
     "name": "stdin",
     "output_type": "stream",
     "text": [
      "Enter the main string:  ababa\n",
      "Enter the substring:  ab\n"
     ]
    },
    {
     "name": "stdout",
     "output_type": "stream",
     "text": [
      "[0, 2]\n"
     ]
    }
   ],
   "source": [
    "#5. Write a code to find all occurrences of a given substring within another string.\n",
    "def find_substring_occurrences(main_string, substring):\n",
    "    start = 0\n",
    "    occurrences = []\n",
    "    \n",
    "    while start < len(main_string):\n",
    "        start = main_string.find(substring, start)\n",
    "        \n",
    "        if start == -1:\n",
    "            break\n",
    "        \n",
    "        occurrences.append(start)\n",
    "        start += len(substring)  # Move past the current occurrence\n",
    "\n",
    "    return occurrences\n",
    "\n",
    "# Example usage\n",
    "main_string = input(\"Enter the main string: \")\n",
    "substring = input(\"Enter the substring: \")\n",
    "occurrences = find_substring_occurrences(main_string, substring)\n",
    "print(occurrences)\n"
   ]
  },
  {
   "cell_type": "code",
   "execution_count": 8,
   "id": "26a1a703-94bf-402b-9d18-07d93fb0db5a",
   "metadata": {},
   "outputs": [
    {
     "name": "stdout",
     "output_type": "stream",
     "text": [
      "Occurrences of 'test' in the main string are at positions: [10]\n"
     ]
    }
   ],
   "source": [
    "#6. Write a code to perform basic string compression using the counts of repeated characters.\n",
    "main_string = \"This is a test string. Testing is fun. Test it again.\"\n",
    "substring = \"test\"\n",
    "\n",
    "start = 0\n",
    "occurrences = []\n",
    "\n",
    "while start < len(main_string):\n",
    "    start = main_string.find(substring, start)\n",
    "    \n",
    "    if start == -1:\n",
    "        break\n",
    "    \n",
    "    occurrences.append(start)\n",
    "    start += 1  # move to the next character to find overlapping occurrences\n",
    "\n",
    "print(f\"Occurrences of '{substring}' in the main string are at positions: {occurrences}\")\n"
   ]
  },
  {
   "cell_type": "code",
   "execution_count": 10,
   "id": "fcf5039a-cb06-42a3-92dd-1b1f9253e63c",
   "metadata": {},
   "outputs": [
    {
     "name": "stdout",
     "output_type": "stream",
     "text": [
      "True\n"
     ]
    }
   ],
   "source": [
    "#7.Write a code to determine if a string has all unique characters.\n",
    "string = \"abcdef\"\n",
    "char_set = set()\n",
    "all_unique = True\n",
    "\n",
    "for char in string:\n",
    "    if char in char_set:\n",
    "        all_unique = False\n",
    "        break\n",
    "    char_set.add(char)\n",
    "\n",
    "print(all_unique) \n",
    "    "
   ]
  },
  {
   "cell_type": "code",
   "execution_count": 11,
   "id": "ec6721d7-caac-468f-b3ea-5ccc8d5b39b7",
   "metadata": {},
   "outputs": [
    {
     "name": "stdin",
     "output_type": "stream",
     "text": [
      "Enter 'u' for uppercase or 'l' for lowercase:  u\n"
     ]
    },
    {
     "name": "stdout",
     "output_type": "stream",
     "text": [
      "Converted string: HELLO, WORLD!\n"
     ]
    }
   ],
   "source": [
    "#8.  Write a code to convert a given string to uppercase and lowercase. \n",
    "string = \"Hello, World!\"\n",
    "choice = input(\"Enter 'u' for uppercase or 'l' for lowercase: \").strip().lower()\n",
    "\n",
    "if choice == 'u':\n",
    "    converted_string = string.upper()\n",
    "elif choice == 'l':\n",
    "    converted_string = string.lower()\n",
    "else:\n",
    "    converted_string = string  # If input is invalid, return the original string\n",
    "\n",
    "print(\"Converted string:\", converted_string)\n"
   ]
  },
  {
   "cell_type": "code",
   "execution_count": 17,
   "id": "14eab436-ff05-4210-be4d-7f2f0f6f4aa1",
   "metadata": {},
   "outputs": [
    {
     "name": "stdout",
     "output_type": "stream",
     "text": [
      "The number of words in the string is: 8\n"
     ]
    }
   ],
   "source": [
    "#9. Write a code to count the number of words in a string.\n",
    "def count_words(text):\n",
    "    # Split the string into words based on whitespace and return the number of words\n",
    "    words = text.split()\n",
    "    return len(words)\n",
    "\n",
    "# Example usage\n",
    "text = \"This is an example sentence with several words.\"\n",
    "word_count = count_words(text)\n",
    "print(f\"The number of words in the string is: {word_count}\")\n"
   ]
  },
  {
   "cell_type": "code",
   "execution_count": 14,
   "id": "cb0fceaa-1eb4-4151-b3ba-58c956180664",
   "metadata": {},
   "outputs": [
    {
     "name": "stdout",
     "output_type": "stream",
     "text": [
      "HelloWorld\n",
      "HelloWorld\n"
     ]
    }
   ],
   "source": [
    "#10. Write a code to concatenate two strings without using the + operator.\n",
    "str1 = \"Hello\"\n",
    "str2 = \"World\"\n",
    "result = \"\".join([str1, str2])\n",
    "print(result)  \n",
    "\n",
    "#another method\n",
    "str1 = \"Hello\"\n",
    "str2 = \"World\"\n",
    "result = \"{}{}\".format(str1, str2)\n",
    "print(result) \n"
   ]
  },
  {
   "cell_type": "code",
   "execution_count": 2,
   "id": "3230305c-7416-461b-8425-a2b8eef3006f",
   "metadata": {},
   "outputs": [
    {
     "name": "stdout",
     "output_type": "stream",
     "text": [
      "[1, 3, 4, 5]\n"
     ]
    }
   ],
   "source": [
    "#11. Write a code to remove all occurrences of a specific eleeent from a list.\n",
    "def remove_all_occurrences(lst, element):\n",
    "    return [x for x in lst if x != element]\n",
    "\n",
    "# Example usage:\n",
    "lst = [1, 2, 3, 4, 2, 2, 5]\n",
    "element = 2\n",
    "result = remove_all_occurrences(lst, element)\n",
    "print(result)  \n"
   ]
  },
  {
   "cell_type": "code",
   "execution_count": 1,
   "id": "98d60517-c2bf-461f-8d29-c6e7801071cd",
   "metadata": {},
   "outputs": [
    {
     "name": "stdout",
     "output_type": "stream",
     "text": [
      "8\n"
     ]
    }
   ],
   "source": [
    "#12. Implement a code to find the second largest number in a given list of integers.\n",
    "def find_second_largest(lst):\n",
    "    if len(lst) < 2:\n",
    "        return None  # Not enough elements to find the second largest\n",
    "    \n",
    "    first = second = float('-inf')\n",
    "    \n",
    "    for num in lst:\n",
    "        if num > first:\n",
    "            second = first\n",
    "            first = num\n",
    "        elif first > num > second:\n",
    "            second = num\n",
    "    \n",
    "    return second if second != float('-inf') else None\n",
    "\n",
    "# Example usage:\n",
    "lst = [3, 5, 7, 1, 9, 2, 8]\n",
    "result = find_second_largest(lst)\n",
    "print(result)  \n"
   ]
  },
  {
   "cell_type": "code",
   "execution_count": 2,
   "id": "aa90a165-8a80-4db3-bc07-3abe2f4c715f",
   "metadata": {},
   "outputs": [
    {
     "name": "stdout",
     "output_type": "stream",
     "text": [
      "{1: 1, 2: 2, 3: 3, 4: 4}\n"
     ]
    }
   ],
   "source": [
    "#13. Create  code to count the occurrences of each element in a list and return a dictionary\n",
    " #with elements in key and their counts as values.\n",
    "def count_occurrences(lst):\n",
    "    counts = {}\n",
    "    for element in lst:\n",
    "        if element in counts:\n",
    "            counts[element] += 1\n",
    "        else:\n",
    "            counts[element] = 1\n",
    "    return counts\n",
    "\n",
    "# Example usage:\n",
    "lst = [1, 2, 2, 3, 3, 3, 4, 4, 4, 4]\n",
    "result = count_occurrences(lst)\n",
    "print(result)  \n"
   ]
  },
  {
   "cell_type": "code",
   "execution_count": 3,
   "id": "0406fc49-48f6-4cc6-8743-237cac92998e",
   "metadata": {},
   "outputs": [
    {
     "name": "stdout",
     "output_type": "stream",
     "text": [
      "[5, 4, 3, 2, 1]\n"
     ]
    }
   ],
   "source": [
    "#14. Write a code to reverse a list in-place without using any built-in reverse functions.\n",
    "def reverse_list(lst):\n",
    "    left = 0\n",
    "    right = len(lst) - 1\n",
    "    \n",
    "    while left < right:\n",
    "        # Swap the elements at left and right indices\n",
    "        lst[left], lst[right] = lst[right], lst[left]\n",
    "        \n",
    "        # Move the pointers towards the center\n",
    "        left += 1\n",
    "        right -= 1\n",
    "\n",
    "# Example usage:\n",
    "lst = [1, 2, 3, 4, 5]\n",
    "reverse_list(lst)\n",
    "print(lst)  \n"
   ]
  },
  {
   "cell_type": "code",
   "execution_count": 4,
   "id": "8ef84394-5a0f-4a73-9558-b93b137d8244",
   "metadata": {},
   "outputs": [
    {
     "name": "stdout",
     "output_type": "stream",
     "text": [
      "[1, 2, 3, 4]\n"
     ]
    }
   ],
   "source": [
    "#15. Implement a code to find and remove duplicates from a list while preserving the original order of elements.\n",
    "def remove_duplicates(lst):\n",
    "    seen = set()\n",
    "    result = []\n",
    "    for element in lst:\n",
    "        if element not in seen:\n",
    "            result.append(element)\n",
    "            seen.add(element)\n",
    "    return result\n",
    "\n",
    "# Example usage:\n",
    "lst = [1, 2, 2, 3, 3, 3, 4, 4, 4, 4]\n",
    "result = remove_duplicates(lst)\n",
    "print(result)  \n"
   ]
  },
  {
   "cell_type": "code",
   "execution_count": 5,
   "id": "11a78b72-8efa-401b-9036-f758586a8450",
   "metadata": {},
   "outputs": [
    {
     "name": "stdout",
     "output_type": "stream",
     "text": [
      "True\n",
      "True\n",
      "False\n",
      "True\n"
     ]
    }
   ],
   "source": [
    "#16. Create a code to check if a given list is sorted (either in ascending or descending order) or not.\n",
    "def is_sorted(lst):\n",
    "    if not lst:\n",
    "        return True  # An empty list is considered sorted\n",
    "    \n",
    "    ascending = True\n",
    "    descending = True\n",
    "    \n",
    "    for i in range(1, len(lst)):\n",
    "        if lst[i] < lst[i - 1]:\n",
    "            ascending = False\n",
    "        if lst[i] > lst[i - 1]:\n",
    "            descending = False\n",
    "    \n",
    "    return ascending or descending\n",
    "\n",
    "# Example usage:\n",
    "lst1 = [1, 2, 3, 4, 5]\n",
    "lst2 = [5, 4, 3, 2, 1]\n",
    "lst3 = [1, 3, 2, 4, 5]\n",
    "lst4 = []\n",
    "\n",
    "print(is_sorted(lst1)) \n",
    "print(is_sorted(lst2))  \n",
    "print(is_sorted(lst3))  \n",
    "print(is_sorted(lst4))  \n"
   ]
  },
  {
   "cell_type": "code",
   "execution_count": 6,
   "id": "4b10ca2b-0659-4128-93d7-e07c537c70b7",
   "metadata": {},
   "outputs": [
    {
     "name": "stdout",
     "output_type": "stream",
     "text": [
      "[1, 2, 3, 4, 5, 6, 7, 8]\n"
     ]
    }
   ],
   "source": [
    "#17. Write a code two merge sorted list into a single sorted list.\n",
    "def merge_sorted_lists(lst1, lst2):\n",
    "    merged_list = []\n",
    "    i, j = 0, 0\n",
    "    \n",
    "    # Traverse both lists and merge them in sorted order\n",
    "    while i < len(lst1) and j < len(lst2):\n",
    "        if lst1[i] < lst2[j]:\n",
    "            merged_list.append(lst1[i])\n",
    "            i += 1\n",
    "        else:\n",
    "            merged_list.append(lst2[j])\n",
    "            j += 1\n",
    "    \n",
    "    # Append remaining elements of lst1, if any\n",
    "    while i < len(lst1):\n",
    "        merged_list.append(lst1[i])\n",
    "        i += 1\n",
    "    \n",
    "    # Append remaining elements of lst2, if any\n",
    "    while j < len(lst2):\n",
    "        merged_list.append(lst2[j])\n",
    "        j += 1\n",
    "    \n",
    "    return merged_list\n",
    "\n",
    "# Example usage:\n",
    "lst1 = [1, 3, 5, 7]\n",
    "lst2 = [2, 4, 6, 8]\n",
    "result = merge_sorted_lists(lst1, lst2)\n",
    "print(result)  \n"
   ]
  },
  {
   "cell_type": "code",
   "execution_count": 7,
   "id": "d9ba1da6-61e5-4870-b64a-6f1da0d6455d",
   "metadata": {},
   "outputs": [
    {
     "name": "stdout",
     "output_type": "stream",
     "text": [
      "[4, 5]\n"
     ]
    }
   ],
   "source": [
    "#18. Implement a code to find the intersection of two given list.\n",
    "def intersection(lst1, lst2):\n",
    "    set1 = set(lst1)\n",
    "    set2 = set(lst2)\n",
    "    return list(set1 & set2)\n",
    "\n",
    "# Example usage:\n",
    "lst1 = [1, 2, 3, 4, 5]\n",
    "lst2 = [4, 5, 6, 7, 8]\n",
    "result = intersection(lst1, lst2)\n",
    "print(result)  \n"
   ]
  },
  {
   "cell_type": "code",
   "execution_count": 8,
   "id": "46d22793-0109-4535-bb15-30da09b5a249",
   "metadata": {},
   "outputs": [
    {
     "name": "stdout",
     "output_type": "stream",
     "text": [
      "[1, 2, 3, 4, 5, 6, 7, 8]\n"
     ]
    }
   ],
   "source": [
    "# 19. Write a code to find the union of two lists without duplicates.\n",
    "def union(lst1, lst2):\n",
    "    return list(set(lst1) | set(lst2))\n",
    "\n",
    "# Example usage:\n",
    "lst1 = [1, 2, 3, 4, 5]\n",
    "lst2 = [4, 5, 6, 7, 8]\n",
    "result = union(lst1, lst2)\n",
    "print(result)  \n"
   ]
  },
  {
   "cell_type": "code",
   "execution_count": 10,
   "id": "255ed6c4-e46c-4b23-99f9-4af873fa7199",
   "metadata": {},
   "outputs": [
    {
     "name": "stdout",
     "output_type": "stream",
     "text": [
      "[1, 4, 2, 3, 5, 6]\n"
     ]
    }
   ],
   "source": [
    "#20. Write a code to shuffle a given list randomly without using any built-in shuffle function.\n",
    "import random\n",
    "\n",
    "def shuffle_list(lst):\n",
    "    # Traverse the list in reverse order\n",
    "    for i in range(len(lst) - 1, 0, -1):\n",
    "        # Generate a random index\n",
    "        j = random.randint(0, i)  # Random index from 0 to i\n",
    "        # Swap the current element with the randomly selected element\n",
    "        lst[i], lst[j] = lst[j], lst[i]\n",
    "\n",
    "# Example usage:\n",
    "my_list = [1, 2, 3, 4, 5, 6]\n",
    "shuffle_list(my_list)\n",
    "print(my_list)  \n"
   ]
  },
  {
   "cell_type": "code",
   "execution_count": 11,
   "id": "b5d547e7-daa9-436e-8e90-0b03b9271392",
   "metadata": {},
   "outputs": [
    {
     "name": "stdout",
     "output_type": "stream",
     "text": [
      "(4, 5)\n"
     ]
    }
   ],
   "source": [
    "#21. Write a code that takes two tuples as input and returns a new tuple containing elements that are common to both input tuples.\n",
    "def common_elements(tuple1, tuple2):\n",
    "    # Convert tuples to sets to find the intersection\n",
    "    set1 = set(tuple1)\n",
    "    set2 = set(tuple2)\n",
    "    \n",
    "    # Find the common elements\n",
    "    common_set = set1 & set2\n",
    "    \n",
    "    # Convert the set back to a tuple\n",
    "    return tuple(common_set)\n",
    "\n",
    "# Example usage:\n",
    "tuple1 = (1, 2, 3, 4, 5)\n",
    "tuple2 = (4, 5, 6, 7, 8)\n",
    "result = common_elements(tuple1, tuple2)\n",
    "print(result) \n"
   ]
  },
  {
   "cell_type": "code",
   "execution_count": 1,
   "id": "7fb76be0-35eb-4900-925b-0950647b99c5",
   "metadata": {},
   "outputs": [
    {
     "name": "stdin",
     "output_type": "stream",
     "text": [
      "Enter the first set of integers, separated by commas:  3223\n",
      "Enter the second set of integers, separated by commas:  2123\n"
     ]
    },
    {
     "name": "stdout",
     "output_type": "stream",
     "text": [
      "The intersection of the two sets is: set()\n"
     ]
    }
   ],
   "source": [
    "#22. Create a code that prompts the user to enter two sets of integers seperated by commas.Then print the intersection of these two sets.\n",
    "def get_set_from_input(prompt):\n",
    "    return set(map(int, input(prompt).split(',')))\n",
    "\n",
    "# Prompt user for two sets of integers\n",
    "set1 = get_set_from_input(\"Enter the first set of integers, separated by commas: \")\n",
    "set2 = get_set_from_input(\"Enter the second set of integers, separated by commas: \")\n",
    "\n",
    "# Find the intersection of the two sets\n",
    "intersection = set1.intersection(set2)\n",
    "\n",
    "# Print the intersection\n",
    "print(f\"The intersection of the two sets is: {intersection}\")\n"
   ]
  },
  {
   "cell_type": "code",
   "execution_count": 2,
   "id": "47e8418b-6baf-41f4-b185-e6c8f1050a71",
   "metadata": {},
   "outputs": [
    {
     "name": "stdout",
     "output_type": "stream",
     "text": [
      "The concatenated tuple is: (1, 2, 3, 4, 5, 6)\n"
     ]
    }
   ],
   "source": [
    "#23. Write a code to concatenate two tuples. The function should take two tuples as input and return a new tuple containing elements from both input tuples.\n",
    "def concatenate_tuples(tuple1, tuple2):\n",
    "    return tuple1 + tuple2\n",
    "\n",
    "# Example usage\n",
    "tuple1 = (1, 2, 3)\n",
    "tuple2 = (4, 5, 6)\n",
    "\n",
    "result = concatenate_tuples(tuple1, tuple2)\n",
    "print(f\"The concatenated tuple is: {result}\")\n"
   ]
  },
  {
   "cell_type": "code",
   "execution_count": 3,
   "id": "fe0cc22c-f08e-4d8a-a543-44a13d3c77b3",
   "metadata": {},
   "outputs": [
    {
     "name": "stdin",
     "output_type": "stream",
     "text": [
      "Enter the first set of strings, separated by commas:  abhay\n",
      "Enter the second set of strings, separated by commas:  sahu\n"
     ]
    },
    {
     "name": "stdout",
     "output_type": "stream",
     "text": [
      "The elements present in the first set but not in the second set are: {'abhay'}\n"
     ]
    }
   ],
   "source": [
    "#24. Develop the code that prompt the users to input two sets of strings.Then, print the elements that are present in the first set but not in the second set.\n",
    "def get_set_from_input(prompt):\n",
    "    return set(input(prompt).split(','))\n",
    "\n",
    "# Prompt user for two sets of strings\n",
    "set1 = get_set_from_input(\"Enter the first set of strings, separated by commas: \")\n",
    "set2 = get_set_from_input(\"Enter the second set of strings, separated by commas: \")\n",
    "\n",
    "# Find the difference between the two sets\n",
    "difference = set1 - set2\n",
    "\n",
    "# Print the difference\n",
    "print(f\"The elements present in the first set but not in the second set are: {difference}\")\n"
   ]
  },
  {
   "cell_type": "code",
   "execution_count": 4,
   "id": "48d0d373-a1b0-46e7-b4a2-61f1f382d512",
   "metadata": {},
   "outputs": [
    {
     "name": "stdout",
     "output_type": "stream",
     "text": [
      "The sliced tuple is: (3, 4, 5)\n"
     ]
    }
   ],
   "source": [
    "#25. Create a code that takes a tuple and two integers as input.The function should return a new tuple containing elements from the original tuple within the specified range of indices.\n",
    "def slice_tuple(original_tuple, start_index, end_index):\n",
    "    return original_tuple[start_index:end_index]\n",
    "\n",
    "# Example usage\n",
    "original_tuple = (1, 2, 3, 4, 5, 6, 7, 8, 9, 10)\n",
    "start_index = 2\n",
    "end_index = 5\n",
    "\n",
    "result = slice_tuple(original_tuple, start_index, end_index)\n",
    "print(f\"The sliced tuple is: {result}\")\n"
   ]
  },
  {
   "cell_type": "code",
   "execution_count": 5,
   "id": "0c33ff63-39c5-4c8e-8da2-def21c45d110",
   "metadata": {},
   "outputs": [
    {
     "name": "stdin",
     "output_type": "stream",
     "text": [
      "Enter the first set of characters, separated by commas:  abhay,sahu\n",
      "Enter the second set of characters, separated by commas:  pw,skills\n"
     ]
    },
    {
     "name": "stdout",
     "output_type": "stream",
     "text": [
      "The union of the two sets is: {'sahu', 'skills', 'abhay', 'pw'}\n"
     ]
    }
   ],
   "source": [
    "#26. Write a code that prompts the user to input two sets of characters .Then print the union of these two sets.\n",
    "def get_set_from_input(prompt):\n",
    "    return set(input(prompt).split(','))\n",
    "\n",
    "# Prompt user for two sets of characters\n",
    "set1 = get_set_from_input(\"Enter the first set of characters, separated by commas: \")\n",
    "set2 = get_set_from_input(\"Enter the second set of characters, separated by commas: \")\n",
    "\n",
    "# Find the union of the two sets\n",
    "union = set1.union(set2)\n",
    "\n",
    "# Print the union\n",
    "print(f\"The union of the two sets is: {union}\")\n"
   ]
  },
  {
   "cell_type": "code",
   "execution_count": 6,
   "id": "5f54cc89-d56b-4620-a057-fd31bcf09ff1",
   "metadata": {},
   "outputs": [
    {
     "name": "stdout",
     "output_type": "stream",
     "text": [
      "The maximum value is: 9\n",
      "The minimum value is: 1\n"
     ]
    }
   ],
   "source": [
    "#27. Develop a code that takes a tuple of integers as input. The function should return the maximum and minimum values from the tuple using tuple unpacking.\n",
    "def find_max_min(input_tuple):\n",
    "    max_val = max(input_tuple)\n",
    "    min_val = min(input_tuple)\n",
    "    return max_val, min_val\n",
    "\n",
    "# Example usage\n",
    "input_tuple = (5, 2, 9, 1, 7, 6, 3)\n",
    "\n",
    "max_val, min_val = find_max_min(input_tuple)\n",
    "print(f\"The maximum value is: {max_val}\")\n",
    "print(f\"The minimum value is: {min_val}\")\n"
   ]
  },
  {
   "cell_type": "code",
   "execution_count": 7,
   "id": "df58af85-d296-45a7-8598-35b1c117757a",
   "metadata": {},
   "outputs": [
    {
     "name": "stdout",
     "output_type": "stream",
     "text": [
      "The union of the two sets is: {1, 2, 3, 4, 5, 6, 7, 8}\n",
      "The intersection of the two sets is: {4, 5}\n",
      "The difference of the two sets (set1 - set2) is: {1, 2, 3}\n"
     ]
    }
   ],
   "source": [
    "#28. Create a code that defines two sets of integers. Then print the union intersection +nd difference of these two sets.\n",
    "# Define two sets of integers\n",
    "set1 = {1, 2, 3, 4, 5}\n",
    "set2 = {4, 5, 6, 7, 8}\n",
    "\n",
    "# Find the union of the two sets\n",
    "union_set = set1.union(set2)\n",
    "\n",
    "# Find the intersection of the two sets\n",
    "intersection_set = set1.intersection(set2)\n",
    "\n",
    "# Find the difference of the two sets (elements in set1 but not in set2)\n",
    "difference_set = set1.difference(set2)\n",
    "\n",
    "# Print the results\n",
    "print(f\"The union of the two sets is: {union_set}\")\n",
    "print(f\"The intersection of the two sets is: {intersection_set}\")\n",
    "print(f\"The difference of the two sets (set1 - set2) is: {difference_set}\")\n"
   ]
  },
  {
   "cell_type": "code",
   "execution_count": 8,
   "id": "809e1b23-f537-40fb-b51a-37f78f87f2aa",
   "metadata": {},
   "outputs": [
    {
     "name": "stdout",
     "output_type": "stream",
     "text": [
      "The element 3 occurs 4 times in the tuple.\n"
     ]
    }
   ],
   "source": [
    "#29. Write a code that takes a tuple and an element as input. The function should return the count of occurrences of the given element in the tuple.\n",
    "def count_occurrences(input_tuple, element):\n",
    "    return input_tuple.count(element)\n",
    "\n",
    "# Example usage\n",
    "input_tuple = (1, 2, 3, 4, 3, 2, 3, 1, 3)\n",
    "element = 3\n",
    "\n",
    "count = count_occurrences(input_tuple, element)\n",
    "print(f\"The element {element} occurs {count} times in the tuple.\")\n"
   ]
  },
  {
   "cell_type": "code",
   "execution_count": 9,
   "id": "14581e97-e36b-4f8b-ae3b-2ee0f88a8ec9",
   "metadata": {},
   "outputs": [
    {
     "name": "stdin",
     "output_type": "stream",
     "text": [
      "Enter the first set of strings, separated by commas:  abhay,abhay\n",
      "Enter the second set of strings, separated by commas:  sahu,pwskills\n"
     ]
    },
    {
     "name": "stdout",
     "output_type": "stream",
     "text": [
      "The symmetric difference of the two sets is: {'sahu', 'abhay', 'pwskills'}\n"
     ]
    }
   ],
   "source": [
    "#30. Develop a code that prompts the user to input two sets of strings. Then print the symmetric difference of these two sets.\n",
    "def get_set_from_input(prompt):\n",
    "    return set(input(prompt).split(','))\n",
    "\n",
    "# Prompt user for two sets of strings\n",
    "set1 = get_set_from_input(\"Enter the first set of strings, separated by commas: \")\n",
    "set2 = get_set_from_input(\"Enter the second set of strings, separated by commas: \")\n",
    "\n",
    "# Find the symmetric difference of the two sets\n",
    "symmetric_difference = set1.symmetric_difference(set2)\n",
    "\n",
    "# Print the symmetric difference\n",
    "print(f\"The symmetric difference of the two sets is: {symmetric_difference}\")\n"
   ]
  },
  {
   "cell_type": "code",
   "execution_count": 10,
   "id": "bccdb62a-44ec-4c1a-b264-6d9f04a2668d",
   "metadata": {},
   "outputs": [
    {
     "name": "stdout",
     "output_type": "stream",
     "text": [
      "{'apple': 3, 'banana': 2, 'orange': 1}\n"
     ]
    }
   ],
   "source": [
    "#31. Write a code that takes a list of words as input and returns a dictionary where the keys are unique words and the values are the frequencies of those words in the input list.\n",
    "def word_frequencies(words):\n",
    "    frequency_dict = {}\n",
    "    for word in words:\n",
    "        if word in frequency_dict:\n",
    "            frequency_dict[word] += 1\n",
    "        else:\n",
    "            frequency_dict[word] = 1\n",
    "    return frequency_dict\n",
    "\n",
    "# Example usage\n",
    "words = [\"apple\", \"banana\", \"apple\", \"orange\", \"banana\", \"apple\"]\n",
    "\n",
    "frequencies = word_frequencies(words)\n",
    "print(frequencies)\n"
   ]
  },
  {
   "cell_type": "code",
   "execution_count": 11,
   "id": "069d3559-48cb-406a-a469-6d6f77082cc9",
   "metadata": {},
   "outputs": [
    {
     "name": "stdout",
     "output_type": "stream",
     "text": [
      "{'a': 1, 'b': 5, 'c': 7, 'd': 5}\n"
     ]
    }
   ],
   "source": [
    "#32. Write a code that takes two dictionaries as input and merges them into a single dictionary. If there are common keys the values should be added together.\n",
    "def merge_dictionaries(dict1, dict2):\n",
    "    merged_dict = dict1.copy()  # Start with a copy of the first dictionary\n",
    "    \n",
    "    for key, value in dict2.items():\n",
    "        if key in merged_dict:\n",
    "            merged_dict[key] += value\n",
    "        else:\n",
    "            merged_dict[key] = value\n",
    "            \n",
    "    return merged_dict\n",
    "\n",
    "# Example usage\n",
    "dict1 = {'a': 1, 'b': 2, 'c': 3}\n",
    "dict2 = {'b': 3, 'c': 4, 'd': 5}\n",
    "\n",
    "merged_dict = merge_dictionaries(dict1, dict2)\n",
    "print(merged_dict)\n"
   ]
  },
  {
   "cell_type": "code",
   "execution_count": 14,
   "id": "caf28814-6e84-4c85-8677-0eed12a9bc82",
   "metadata": {},
   "outputs": [
    {
     "name": "stdout",
     "output_type": "stream",
     "text": [
      "10\n",
      "None\n"
     ]
    }
   ],
   "source": [
    "#33. Write a code to access a value in a nested dictionary. The function should take the dictionary and a list of\n",
    "#keys as input and return the corresponding value. If any of the keys do not exist in the dictionary the function should return None.\n",
    "def get_nested_value(nested_dict, keys):\n",
    "    current_value = nested_dict\n",
    "    \n",
    "    for key in keys:\n",
    "        if isinstance(current_value, dict) and key in current_value:\n",
    "            current_value = current_value[key]\n",
    "        else:\n",
    "            return None\n",
    "    \n",
    "    return current_value\n",
    "\n",
    "# Example usage\n",
    "nested_dict = {\n",
    "    'a': {\n",
    "        'b': {\n",
    "            'c': 10\n",
    "        }\n",
    "    }\n",
    "}\n",
    "\n",
    "keys = ['a', 'b', 'c']\n",
    "value = get_nested_value(nested_dict, keys)\n",
    "print(value)  # Output: 10\n",
    "\n",
    "# Test with a non-existent key\n",
    "keys = ['a', 'b', 'd']\n",
    "value = get_nested_value(nested_dict, keys)\n",
    "print(value)  \n"
   ]
  },
  {
   "cell_type": "code",
   "execution_count": 15,
   "id": "c1e284a8-9c9e-4a6c-a4ef-88f7e70a2da1",
   "metadata": {},
   "outputs": [
    {
     "name": "stdout",
     "output_type": "stream",
     "text": [
      "Sorted in ascending order: {'b': 1, 'c': 2, 'a': 3}\n",
      "Sorted in descending order: {'a': 3, 'c': 2, 'b': 1}\n"
     ]
    }
   ],
   "source": [
    "#34.Write a code that takes a dictionary as input and returns a sorted version of it based on the values. You can choose whether to sort in ascending or descending order.\n",
    "def sort_dict_by_values(input_dict, reverse=False):\n",
    "    # Sort the dictionary by values and return a new dictionary\n",
    "    sorted_dict = dict(sorted(input_dict.items(), key=lambda item: item[1], reverse=reverse))\n",
    "    return sorted_dict\n",
    "\n",
    "# Example usage\n",
    "input_dict = {'a': 3, 'b': 1, 'c': 2}\n",
    "\n",
    "# Sort in ascending order\n",
    "sorted_dict_asc = sort_dict_by_values(input_dict)\n",
    "print(\"Sorted in ascending order:\", sorted_dict_asc)\n",
    "\n",
    "# Sort in descending order\n",
    "sorted_dict_desc = sort_dict_by_values(input_dict, reverse=True)\n",
    "print(\"Sorted in descending order:\", sorted_dict_desc)\n"
   ]
  },
  {
   "cell_type": "code",
   "execution_count": 16,
   "id": "2ee3b27d-8572-4e62-a188-849dc202cecf",
   "metadata": {},
   "outputs": [
    {
     "name": "stdout",
     "output_type": "stream",
     "text": [
      "{1: ['a', 'c'], 2: ['b'], 3: ['d']}\n"
     ]
    }
   ],
   "source": [
    "#35.Write a code that inverts a dictionary swapping keys and values. Ensure that the inverted dictionary correctly handles cases where multiple keys have the same value by storing the keys as a list in the inverted dictionary.\n",
    "def invert_dict(input_dict):\n",
    "    inverted_dict = {}\n",
    "    \n",
    "    for key, value in input_dict.items():\n",
    "        if value in inverted_dict:\n",
    "            inverted_dict[value].append(key)\n",
    "        else:\n",
    "            inverted_dict[value] = [key]\n",
    "    \n",
    "    return inverted_dict\n",
    "\n",
    "# Example usage\n",
    "input_dict = {'a': 1, 'b': 2, 'c': 1, 'd': 3}\n",
    "\n",
    "inverted_dict = invert_dict(input_dict)\n",
    "print(inverted_dict)\n"
   ]
  }
 ],
 "metadata": {
  "kernelspec": {
   "display_name": "Python 3 (ipykernel)",
   "language": "python",
   "name": "python3"
  },
  "language_info": {
   "codemirror_mode": {
    "name": "ipython",
    "version": 3
   },
   "file_extension": ".py",
   "mimetype": "text/x-python",
   "name": "python",
   "nbconvert_exporter": "python",
   "pygments_lexer": "ipython3",
   "version": "3.10.8"
  }
 },
 "nbformat": 4,
 "nbformat_minor": 5
}
